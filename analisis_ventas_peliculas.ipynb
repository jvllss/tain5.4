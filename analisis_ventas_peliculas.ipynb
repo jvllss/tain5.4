{
 "cells": [
  {
   "cell_type": "code",
   "execution_count": null,
   "id": "9d864b96-2382-46a3-9d68-f5b44b71fd77",
   "metadata": {},
   "outputs": [],
   "source": [
    "import pandas as pd\n",
    "\n",
    "# Cargar los datos\n",
    "ventas_df = pd.read_csv('/workspace/ventas_peliculas.csv')\n",
    "promocion_df = pd.read_csv('/workspace/promocion_peliculas.csv')\n",
    "\n",
    "# Combinar los DataFrames usando un left join\n",
    "merged_df = ventas_df.merge(promocion_df, on=['fecha', 'titulo'], how='left')\n",
    "\n",
    "# Identificar valores nulos\n",
    "print(\"Valores nulos en el dataset:\")\n",
    "print(merged_df.isna().sum())\n",
    "\n",
    "# Rellenar valores nulos si es necesario\n",
    "merged_df.fillna(0, inplace=True)\n",
    "\n",
    "# Resumen estadístico de las ventas de boletos semanales\n",
    "print(\"Resumen de ventas de boletos semanales:\")\n",
    "print(merged_df[['fecha', 'ventas_boletos']].groupby('fecha').sum())\n",
    "\n",
    "# Comparación de semanas con y sin promociones\n",
    "print(\"Ventas promedio con y sin promociones:\")\n",
    "print(merged_df.groupby(merged_df['eventos_promocionales'] > 0)['ventas_boletos'].mean())\n",
    "\n",
    "# Detección de outliers\n",
    "q1 = merged_df['ventas_boletos'].quantile(0.25)\n",
    "q3 = merged_df['ventas_boletos'].quantile(0.75)\n",
    "iqr = q3 - q1\n",
    "outliers = merged_df[(merged_df['ventas_boletos'] < (q1 - 1.5 * iqr)) | (merged_df['ventas_boletos'] > (q3 + 1.5 * iqr))]\n",
    "print(\"Valores extremos detectados en ventas de boletos:\")\n",
    "print(outliers)\n",
    "\n",
    "# Análisis de correlación\n",
    "correlation_matrix = merged_df[['ventas_boletos', 'calificacion', 'eventos_promocionales', 'participacion_promocion']].corr()\n",
    "print(\"Matriz de correlación:\")\n",
    "print(correlation_matrix)\n",
    "\n",
    "# Entrenar el modelo de regresión lineal\n",
    "X = merged_df[['calificacion', 'eventos_promocionales', 'participacion_promocion']]\n",
    "Y = merged_df['ventas_boletos']\n",
    "\n",
    "# Calcular coeficientes de regresión manualmente\n",
    "X = X.assign(constante=1)  # Agregar constante\n",
    "beta = pd.Series(pd.DataFrame(X).T.dot(Y) / pd.DataFrame(X).T.dot(X).sum(), index=X.columns)\n",
    "print(\"Coeficientes de regresión:\")\n",
    "print(beta)\n",
    "\n",
    "# Predicciones y comparación\n",
    "merged_df['ventas_predichas'] = X.dot(beta)\n",
    "print(\"Comparación entre ventas reales y predichas:\")\n",
    "print(merged_df[['ventas_boletos', 'ventas_predichas']].head())"
   ]
  }
 ],
 "metadata": {
  "kernelspec": {
   "display_name": "Python [conda env:base] *",
   "language": "python",
   "name": "conda-base-py"
  },
  "language_info": {
   "codemirror_mode": {
    "name": "ipython",
    "version": 3
   },
   "file_extension": ".py",
   "mimetype": "text/x-python",
   "name": "python",
   "nbconvert_exporter": "python",
   "pygments_lexer": "ipython3",
   "version": "3.12.7"
  }
 },
 "nbformat": 4,
 "nbformat_minor": 5
}
