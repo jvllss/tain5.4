{
 "cells": [
  {
   "cell_type": "code",
   "execution_count": null,
   "id": "9d864b96-2382-46a3-9d68-f5b44b71fd77",
   "metadata": {},
   "outputs": [],
   "source": [
    "import pandas as pd\n",
    "import statsmodels.api as sm\n",
    "\n",
    "ventas_df = pd.read_csv('/workspace/ventas_peliculas.csv')\n",
    "promocion_df = pd.read_csv('/workspace/promocion_peliculas.csv')\n",
    "\n",
    "merged_df = ventas_df.merge(promocion_df, on=['fecha', 'titulo'], how='left')\n",
    "\n",
    "print(\"Valores nulos en el dataset:\")\n",
    "print(merged_df.isna().sum())\n",
    "\n",
    "merged_df.fillna(0, inplace=True)\n",
    "\n",
    "print(\"Resumen de ventas de boletos semanales:\")\n",
    "print(merged_df[['fecha', 'ventas_boletos']].groupby('fecha').sum())\n",
    "\n",
    "print(\"Ventas promedio con y sin promociones:\")\n",
    "print(merged_df.groupby(merged_df['eventos_promocionales'] > 0)['ventas_boletos'].mean())\n",
    "\n",
    "q1 = merged_df['ventas_boletos'].quantile(0.25)\n",
    "q3 = merged_df['ventas_boletos'].quantile(0.75)\n",
    "iqr = q3 - q1\n",
    "outliers = merged_df[(merged_df['ventas_boletos'] < (q1 - 1.5 * iqr)) | (merged_df['ventas_boletos'] > (q3 + 1.5 * iqr))]\n",
    "print(\"Valores extremos detectados en ventas de boletos:\")\n",
    "print(outliers)\n",
    "\n",
    "correlation_matrix = merged_df[['ventas_boletos', 'calificacion', 'eventos_promocionales', 'participacion_promocion']].corr()\n",
    "print(\"Matriz de correlación:\")\n",
    "print(correlation_matrix)\n",
    "\n",
    "merged_df.plot(x='fecha', y='ventas_boletos', title='Ventas de boletos semanales', grid=True)\n",
    "merged_df.groupby('eventos_promocionales')['ventas_boletos'].mean().plot(kind='bar', title='Ventas promedio con y sin promociones', grid=True)\n",
    "merged_df[['ventas_boletos']].boxplot()\n",
    "correlation_matrix.style.background_gradient(cmap='coolwarm')\n",
    "\n",
    "X = merged_df[['calificacion', 'eventos_promocionales', 'participacion_promocion']]\n",
    "X = sm.add_constant(X)\n",
    "Y = merged_df['ventas_boletos']\n",
    "\n",
    "model = sm.OLS(Y, X).fit()\n",
    "print(model.summary())\n",
    "\n",
    "merged_df['ventas_predichas'] = model.predict(X)\n",
    "print(\"Comparación entre ventas reales y predichas:\")\n",
    "print(merged_df[['ventas_boletos', 'ventas_predichas']].head())\n",
    "\n",
    "merged_df[['ventas_boletos', 'ventas_predichas']].plot(title='Ventas reales vs. predichas', grid=True)"
   ]
  }
 ],
 "metadata": {
  "kernelspec": {
   "display_name": "Python [conda env:base] *",
   "language": "python",
   "name": "conda-base-py"
  },
  "language_info": {
   "codemirror_mode": {
    "name": "ipython",
    "version": 3
   },
   "file_extension": ".py",
   "mimetype": "text/x-python",
   "name": "python",
   "nbconvert_exporter": "python",
   "pygments_lexer": "ipython3",
   "version": "3.12.7"
  }
 },
 "nbformat": 4,
 "nbformat_minor": 5
}
